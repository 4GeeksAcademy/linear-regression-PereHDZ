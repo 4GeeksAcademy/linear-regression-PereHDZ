{
    "cells": [
        {
            "cell_type": "markdown",
            "metadata": {},
            "source": [
                "# Explore here"
            ]
        },
        {
            "cell_type": "code",
            "execution_count": 126,
            "metadata": {},
            "outputs": [
                {
                    "data": {
                        "text/html": [
                            "<div>\n",
                            "<style scoped>\n",
                            "    .dataframe tbody tr th:only-of-type {\n",
                            "        vertical-align: middle;\n",
                            "    }\n",
                            "\n",
                            "    .dataframe tbody tr th {\n",
                            "        vertical-align: top;\n",
                            "    }\n",
                            "\n",
                            "    .dataframe thead th {\n",
                            "        text-align: right;\n",
                            "    }\n",
                            "</style>\n",
                            "<table border=\"1\" class=\"dataframe\">\n",
                            "  <thead>\n",
                            "    <tr style=\"text-align: right;\">\n",
                            "      <th></th>\n",
                            "      <th>age</th>\n",
                            "      <th>sex</th>\n",
                            "      <th>bmi</th>\n",
                            "      <th>children</th>\n",
                            "      <th>smoker</th>\n",
                            "      <th>region</th>\n",
                            "      <th>charges</th>\n",
                            "    </tr>\n",
                            "  </thead>\n",
                            "  <tbody>\n",
                            "    <tr>\n",
                            "      <th>0</th>\n",
                            "      <td>19</td>\n",
                            "      <td>female</td>\n",
                            "      <td>27.900</td>\n",
                            "      <td>0</td>\n",
                            "      <td>yes</td>\n",
                            "      <td>southwest</td>\n",
                            "      <td>16884.92400</td>\n",
                            "    </tr>\n",
                            "    <tr>\n",
                            "      <th>1</th>\n",
                            "      <td>18</td>\n",
                            "      <td>male</td>\n",
                            "      <td>33.770</td>\n",
                            "      <td>1</td>\n",
                            "      <td>no</td>\n",
                            "      <td>southeast</td>\n",
                            "      <td>1725.55230</td>\n",
                            "    </tr>\n",
                            "    <tr>\n",
                            "      <th>2</th>\n",
                            "      <td>28</td>\n",
                            "      <td>male</td>\n",
                            "      <td>33.000</td>\n",
                            "      <td>3</td>\n",
                            "      <td>no</td>\n",
                            "      <td>southeast</td>\n",
                            "      <td>4449.46200</td>\n",
                            "    </tr>\n",
                            "    <tr>\n",
                            "      <th>3</th>\n",
                            "      <td>33</td>\n",
                            "      <td>male</td>\n",
                            "      <td>22.705</td>\n",
                            "      <td>0</td>\n",
                            "      <td>no</td>\n",
                            "      <td>northwest</td>\n",
                            "      <td>21984.47061</td>\n",
                            "    </tr>\n",
                            "    <tr>\n",
                            "      <th>4</th>\n",
                            "      <td>32</td>\n",
                            "      <td>male</td>\n",
                            "      <td>28.880</td>\n",
                            "      <td>0</td>\n",
                            "      <td>no</td>\n",
                            "      <td>northwest</td>\n",
                            "      <td>3866.85520</td>\n",
                            "    </tr>\n",
                            "  </tbody>\n",
                            "</table>\n",
                            "</div>"
                        ],
                        "text/plain": [
                            "   age     sex     bmi  children smoker     region      charges\n",
                            "0   19  female  27.900         0    yes  southwest  16884.92400\n",
                            "1   18    male  33.770         1     no  southeast   1725.55230\n",
                            "2   28    male  33.000         3     no  southeast   4449.46200\n",
                            "3   33    male  22.705         0     no  northwest  21984.47061\n",
                            "4   32    male  28.880         0     no  northwest   3866.85520"
                        ]
                    },
                    "execution_count": 126,
                    "metadata": {},
                    "output_type": "execute_result"
                }
            ],
            "source": [
                "import pandas as pd\n",
                "import matplotlib.pyplot as plt\n",
                "import statsmodels.api as sm\n",
                "import numpy as np\n",
                "from sklearn.model_selection import train_test_split\n",
                "import xgboost as xgb\n",
                "from statsmodels.stats.outliers_influence import variance_inflation_factor\n",
                "from scipy import stats\n",
                "\n",
                "url = \"/workspaces/linear-regression-PereHDZ/insurance_data.csv\"\n",
                "\n",
                "df = pd.read_csv(url, sep=',')\n",
                "\n",
                "df.to_csv('insurance_data.csv', index=False)\n",
                "\n",
                "df.head()"
            ]
        },
        {
            "cell_type": "code",
            "execution_count": 127,
            "metadata": {},
            "outputs": [
                {
                    "data": {
                        "text/plain": [
                            "(1338, 7)"
                        ]
                    },
                    "execution_count": 127,
                    "metadata": {},
                    "output_type": "execute_result"
                }
            ],
            "source": [
                "#Check the number of rows and columns\n",
                "df.shape"
            ]
        },
        {
            "cell_type": "code",
            "execution_count": 128,
            "metadata": {},
            "outputs": [
                {
                    "name": "stdout",
                    "output_type": "stream",
                    "text": [
                        "<class 'pandas.core.frame.DataFrame'>\n",
                        "RangeIndex: 1338 entries, 0 to 1337\n",
                        "Data columns (total 7 columns):\n",
                        " #   Column    Non-Null Count  Dtype  \n",
                        "---  ------    --------------  -----  \n",
                        " 0   age       1338 non-null   int64  \n",
                        " 1   sex       1338 non-null   object \n",
                        " 2   bmi       1338 non-null   float64\n",
                        " 3   children  1338 non-null   int64  \n",
                        " 4   smoker    1338 non-null   object \n",
                        " 5   region    1338 non-null   object \n",
                        " 6   charges   1338 non-null   float64\n",
                        "dtypes: float64(2), int64(2), object(3)\n",
                        "memory usage: 73.3+ KB\n"
                    ]
                }
            ],
            "source": [
                "#Check the type of variables\n",
                "df.info()"
            ]
        },
        {
            "cell_type": "code",
            "execution_count": 129,
            "metadata": {},
            "outputs": [
                {
                    "data": {
                        "text/plain": [
                            "age           47\n",
                            "sex            2\n",
                            "bmi          548\n",
                            "children       6\n",
                            "smoker         2\n",
                            "region         4\n",
                            "charges     1337\n",
                            "dtype: int64"
                        ]
                    },
                    "execution_count": 129,
                    "metadata": {},
                    "output_type": "execute_result"
                }
            ],
            "source": [
                "#Check for constant values\n",
                "df.nunique()\n",
                "\n",
                "#There are no constant values"
            ]
        },
        {
            "cell_type": "code",
            "execution_count": 130,
            "metadata": {},
            "outputs": [
                {
                    "data": {
                        "text/plain": [
                            "np.int64(1)"
                        ]
                    },
                    "execution_count": 130,
                    "metadata": {},
                    "output_type": "execute_result"
                }
            ],
            "source": [
                "#check for duplicates\n",
                "df.duplicated().sum()"
            ]
        },
        {
            "cell_type": "code",
            "execution_count": 131,
            "metadata": {},
            "outputs": [
                {
                    "data": {
                        "text/plain": [
                            "np.int64(0)"
                        ]
                    },
                    "execution_count": 131,
                    "metadata": {},
                    "output_type": "execute_result"
                }
            ],
            "source": [
                "#Since we have duplicate entries in the dataset, we should eliminate them to avoid redundancy in our algorithm\n",
                "df = df.drop_duplicates()\n",
                "df = df.reset_index(drop=True)\n",
                "\n",
                "df.duplicated().sum()"
            ]
        },
        {
            "cell_type": "code",
            "execution_count": 132,
            "metadata": {},
            "outputs": [
                {
                    "data": {
                        "text/html": [
                            "<div>\n",
                            "<style scoped>\n",
                            "    .dataframe tbody tr th:only-of-type {\n",
                            "        vertical-align: middle;\n",
                            "    }\n",
                            "\n",
                            "    .dataframe tbody tr th {\n",
                            "        vertical-align: top;\n",
                            "    }\n",
                            "\n",
                            "    .dataframe thead th {\n",
                            "        text-align: right;\n",
                            "    }\n",
                            "</style>\n",
                            "<table border=\"1\" class=\"dataframe\">\n",
                            "  <thead>\n",
                            "    <tr style=\"text-align: right;\">\n",
                            "      <th></th>\n",
                            "      <th>count</th>\n",
                            "      <th>mean</th>\n",
                            "      <th>std</th>\n",
                            "      <th>min</th>\n",
                            "      <th>25%</th>\n",
                            "      <th>50%</th>\n",
                            "      <th>75%</th>\n",
                            "      <th>max</th>\n",
                            "    </tr>\n",
                            "  </thead>\n",
                            "  <tbody>\n",
                            "    <tr>\n",
                            "      <th>age</th>\n",
                            "      <td>1337.0</td>\n",
                            "      <td>39.222139</td>\n",
                            "      <td>14.044333</td>\n",
                            "      <td>18.0000</td>\n",
                            "      <td>27.000</td>\n",
                            "      <td>39.0000</td>\n",
                            "      <td>51.00000</td>\n",
                            "      <td>64.00000</td>\n",
                            "    </tr>\n",
                            "    <tr>\n",
                            "      <th>bmi</th>\n",
                            "      <td>1337.0</td>\n",
                            "      <td>30.663452</td>\n",
                            "      <td>6.100468</td>\n",
                            "      <td>15.9600</td>\n",
                            "      <td>26.290</td>\n",
                            "      <td>30.4000</td>\n",
                            "      <td>34.70000</td>\n",
                            "      <td>53.13000</td>\n",
                            "    </tr>\n",
                            "    <tr>\n",
                            "      <th>children</th>\n",
                            "      <td>1337.0</td>\n",
                            "      <td>1.095737</td>\n",
                            "      <td>1.205571</td>\n",
                            "      <td>0.0000</td>\n",
                            "      <td>0.000</td>\n",
                            "      <td>1.0000</td>\n",
                            "      <td>2.00000</td>\n",
                            "      <td>5.00000</td>\n",
                            "    </tr>\n",
                            "    <tr>\n",
                            "      <th>charges</th>\n",
                            "      <td>1337.0</td>\n",
                            "      <td>13279.121487</td>\n",
                            "      <td>12110.359656</td>\n",
                            "      <td>1121.8739</td>\n",
                            "      <td>4746.344</td>\n",
                            "      <td>9386.1613</td>\n",
                            "      <td>16657.71745</td>\n",
                            "      <td>63770.42801</td>\n",
                            "    </tr>\n",
                            "  </tbody>\n",
                            "</table>\n",
                            "</div>"
                        ],
                        "text/plain": [
                            "           count          mean           std        min       25%        50%  \\\n",
                            "age       1337.0     39.222139     14.044333    18.0000    27.000    39.0000   \n",
                            "bmi       1337.0     30.663452      6.100468    15.9600    26.290    30.4000   \n",
                            "children  1337.0      1.095737      1.205571     0.0000     0.000     1.0000   \n",
                            "charges   1337.0  13279.121487  12110.359656  1121.8739  4746.344  9386.1613   \n",
                            "\n",
                            "                  75%          max  \n",
                            "age          51.00000     64.00000  \n",
                            "bmi          34.70000     53.13000  \n",
                            "children      2.00000      5.00000  \n",
                            "charges   16657.71745  63770.42801  "
                        ]
                    },
                    "execution_count": 132,
                    "metadata": {},
                    "output_type": "execute_result"
                }
            ],
            "source": [
                "#Basic column description\n",
                "df.describe().T"
            ]
        },
        {
            "cell_type": "code",
            "execution_count": 133,
            "metadata": {},
            "outputs": [
                {
                    "data": {
                        "text/plain": [
                            "age         0.0\n",
                            "sex         0.0\n",
                            "bmi         0.0\n",
                            "children    0.0\n",
                            "smoker      0.0\n",
                            "region      0.0\n",
                            "charges     0.0\n",
                            "dtype: float64"
                        ]
                    },
                    "execution_count": 133,
                    "metadata": {},
                    "output_type": "execute_result"
                }
            ],
            "source": [
                "#Check for empty elements in the dataset\n",
                "df.isnull().mean()*100\n",
                "\n",
                "#There are no missing elements"
            ]
        },
        {
            "cell_type": "code",
            "execution_count": 134,
            "metadata": {},
            "outputs": [
                {
                    "name": "stdout",
                    "output_type": "stream",
                    "text": [
                        "<class 'pandas.core.frame.DataFrame'>\n",
                        "RangeIndex: 1337 entries, 0 to 1336\n",
                        "Data columns (total 7 columns):\n",
                        " #   Column    Non-Null Count  Dtype  \n",
                        "---  ------    --------------  -----  \n",
                        " 0   age       1337 non-null   int64  \n",
                        " 1   sex       1337 non-null   int64  \n",
                        " 2   bmi       1337 non-null   float64\n",
                        " 3   children  1337 non-null   int64  \n",
                        " 4   smoker    1337 non-null   int64  \n",
                        " 5   region    1337 non-null   int64  \n",
                        " 6   charges   1337 non-null   float64\n",
                        "dtypes: float64(2), int64(5)\n",
                        "memory usage: 73.2 KB\n"
                    ]
                }
            ],
            "source": [
                "#Transforming categorical variables to numerical\n",
                "\n",
                "#Binary variables\n",
                "df['sex'] = df['sex'].map({'female': 0, 'male': 1})\n",
                "df['smoker'] = df['smoker'].map({'yes': 1, 'no': 0})\n",
                "\n",
                "#Other variables\n",
                "# value_counts = df['region'].value_counts()\n",
                "# print(value_counts)\n",
                "df['region'] = df['region'].map({'southeast': 0, 'southwest': 1, 'northwest': 2, 'northeast': 3})\n",
                "\n",
                "df.info()\n",
                "\n",
                "#All of our variables are numerical now\n"
            ]
        },
        {
            "cell_type": "code",
            "execution_count": 135,
            "metadata": {},
            "outputs": [
                {
                    "data": {
                        "image/png": "[encoded data removed]",
                        "text/plain": [
                            "<Figure size 1200x600 with 2 Axes>"
                        ]
                    },
                    "metadata": {},
                    "output_type": "display_data"
                }
            ],
            "source": [
                "#Plot histogram and boxplot of the variable 'price'\n",
                "\n",
                "plt.figure(figsize=(12, 6))\n",
                "\n",
                "# Histogram\n",
                "plt.subplot(1, 2, 1)\n",
                "plt.hist(df['charges'], bins=50, edgecolor='black')\n",
                "plt.xlabel('charges')\n",
                "plt.ylabel('Frequency')\n",
                "plt.title('Histogram of charges')\n",
                "\n",
                "# Boxplot\n",
                "plt.subplot(1, 2, 2) \n",
                "plt.boxplot(df['charges'], vert=False)\n",
                "plt.xlabel('charges')\n",
                "plt.title('Boxplot of charges')\n",
                "\n",
                "plt.tight_layout()\n",
                "plt.show()"
            ]
        },
        {
            "cell_type": "code",
            "execution_count": 136,
            "metadata": {},
            "outputs": [
                {
                    "data": {
                        "image/png": "[encoded data removed]",
                        "text/plain": [
                            "<Figure size 640x480 with 1 Axes>"
                        ]
                    },
                    "metadata": {},
                    "output_type": "display_data"
                }
            ],
            "source": [
                "#Calculate Cook's distance\n",
                "X = df.drop(['charges'], axis=1)\n",
                "y = df['charges']\n",
                "\n",
                "X = sm.add_constant(X)\n",
                "model = sm.OLS(y, X).fit()\n",
                "\n",
                "cooks_distance = model.get_influence().cooks_distance\n",
                "\n",
                "plt.scatter(df.charges, cooks_distance[0])\n",
                "plt.xlabel('X')\n",
                "plt.ylabel('Cooks Distance')\n",
                "plt.show()"
            ]
        },
        {
            "cell_type": "code",
            "execution_count": 137,
            "metadata": {},
            "outputs": [
                {
                    "name": "stdout",
                    "output_type": "stream",
                    "text": [
                        "(array([   3,    9,   34,   58,   62,   69,   98,   99,  102,  115,  138,\n",
                        "        140,  153,  156,  219,  224,  235,  242,  250,  262,  266,  289,\n",
                        "        292,  301,  321,  340,  355,  376,  379,  380,  387,  397,  411,\n",
                        "        412,  430,  443,  468,  488,  491,  494,  502,  516,  520,  526,\n",
                        "        539,  543,  573,  577,  582,  586,  592,  598,  636,  657,  660,\n",
                        "        687,  695,  726,  729,  738,  753,  779,  792,  798,  802,  805,\n",
                        "        818,  853,  859,  895,  935,  974,  979,  988,  993, 1007, 1010,\n",
                        "       1011, 1018, 1026, 1032, 1038, 1046, 1079, 1084, 1099, 1123, 1141,\n",
                        "       1145, 1155, 1194, 1205, 1229, 1257, 1281, 1299, 1305, 1306, 1313,\n",
                        "       1316, 1327]),)\n"
                    ]
                }
            ],
            "source": [
                "#Detect the influential observations\n",
                "to_delete = np.where(cooks_distance[0]>4/len(df))\n",
                "print(to_delete)"
            ]
        },
        {
            "cell_type": "code",
            "execution_count": 138,
            "metadata": {},
            "outputs": [],
            "source": [
                "#Delete influential observations\n",
                "df1 = df.drop(np.where(cooks_distance[0]>4/len(df))[0])\n",
                "\n",
                "#Data split\n",
                "X = df1.drop(['charges'], axis=1)\n",
                "y = df1['charges']\n",
                "\n",
                "X_train, X_test, y_train, y_test = train_test_split(X, y, test_size=0.2, random_state=42)"
            ]
        },
        {
            "cell_type": "code",
            "execution_count": 139,
            "metadata": {},
            "outputs": [
                {
                    "data": {
                        "text/html": [
                            "<div>\n",
                            "<style scoped>\n",
                            "    .dataframe tbody tr th:only-of-type {\n",
                            "        vertical-align: middle;\n",
                            "    }\n",
                            "\n",
                            "    .dataframe tbody tr th {\n",
                            "        vertical-align: top;\n",
                            "    }\n",
                            "\n",
                            "    .dataframe thead th {\n",
                            "        text-align: right;\n",
                            "    }\n",
                            "</style>\n",
                            "<table border=\"1\" class=\"dataframe\">\n",
                            "  <thead>\n",
                            "    <tr style=\"text-align: right;\">\n",
                            "      <th></th>\n",
                            "      <th>Feature</th>\n",
                            "      <th>Importance</th>\n",
                            "    </tr>\n",
                            "  </thead>\n",
                            "  <tbody>\n",
                            "    <tr>\n",
                            "      <th>4</th>\n",
                            "      <td>smoker</td>\n",
                            "      <td>96.436600</td>\n",
                            "    </tr>\n",
                            "    <tr>\n",
                            "      <th>2</th>\n",
                            "      <td>bmi</td>\n",
                            "      <td>1.449200</td>\n",
                            "    </tr>\n",
                            "    <tr>\n",
                            "      <th>0</th>\n",
                            "      <td>age</td>\n",
                            "      <td>1.358647</td>\n",
                            "    </tr>\n",
                            "    <tr>\n",
                            "      <th>3</th>\n",
                            "      <td>children</td>\n",
                            "      <td>0.281741</td>\n",
                            "    </tr>\n",
                            "    <tr>\n",
                            "      <th>5</th>\n",
                            "      <td>region</td>\n",
                            "      <td>0.274620</td>\n",
                            "    </tr>\n",
                            "    <tr>\n",
                            "      <th>1</th>\n",
                            "      <td>sex</td>\n",
                            "      <td>0.199196</td>\n",
                            "    </tr>\n",
                            "  </tbody>\n",
                            "</table>\n",
                            "</div>"
                        ],
                        "text/plain": [
                            "    Feature  Importance\n",
                            "4    smoker   96.436600\n",
                            "2       bmi    1.449200\n",
                            "0       age    1.358647\n",
                            "3  children    0.281741\n",
                            "5    region    0.274620\n",
                            "1       sex    0.199196"
                        ]
                    },
                    "execution_count": 139,
                    "metadata": {},
                    "output_type": "execute_result"
                }
            ],
            "source": [
                "#Visualize the importance of each observation on charges\n",
                "xgb_model = xgb.XGBRegressor(objective='reg:squarederror', random_state=42).fit(X_train, y_train)\n",
                "df_imp = pd.DataFrame({'Feature': X_train.columns, 'Importance': xgb_model.feature_importances_ * 100})\n",
                "df_imp = df_imp.sort_values(by='Importance', ascending=False)\n",
                "df_imp"
            ]
        },
        {
            "cell_type": "code",
            "execution_count": 140,
            "metadata": {},
            "outputs": [
                {
                    "data": {
                        "text/html": [
                            "<style type=\"text/css\">\n",
                            "#T_a553a_row0_col0, #T_a553a_row1_col1, #T_a553a_row2_col2, #T_a553a_row3_col3 {\n",
                            "  background-color: #b40426;\n",
                            "  color: #f1f1f1;\n",
                            "}\n",
                            "#T_a553a_row0_col1, #T_a553a_row0_col2, #T_a553a_row1_col3, #T_a553a_row2_col0 {\n",
                            "  background-color: #3b4cc0;\n",
                            "  color: #f1f1f1;\n",
                            "}\n",
                            "#T_a553a_row0_col3 {\n",
                            "  background-color: #ec7f63;\n",
                            "  color: #f1f1f1;\n",
                            "}\n",
                            "#T_a553a_row1_col0 {\n",
                            "  background-color: #3d50c3;\n",
                            "  color: #f1f1f1;\n",
                            "}\n",
                            "#T_a553a_row1_col2 {\n",
                            "  background-color: #5673e0;\n",
                            "  color: #f1f1f1;\n",
                            "}\n",
                            "#T_a553a_row2_col1 {\n",
                            "  background-color: #5470de;\n",
                            "  color: #f1f1f1;\n",
                            "}\n",
                            "#T_a553a_row2_col3 {\n",
                            "  background-color: #779af7;\n",
                            "  color: #f1f1f1;\n",
                            "}\n",
                            "#T_a553a_row3_col0 {\n",
                            "  background-color: #e57058;\n",
                            "  color: #f1f1f1;\n",
                            "}\n",
                            "#T_a553a_row3_col1 {\n",
                            "  background-color: #6f92f3;\n",
                            "  color: #f1f1f1;\n",
                            "}\n",
                            "#T_a553a_row3_col2 {\n",
                            "  background-color: #a9c6fd;\n",
                            "  color: #000000;\n",
                            "}\n",
                            "</style>\n",
                            "<table id=\"T_a553a\">\n",
                            "  <thead>\n",
                            "    <tr>\n",
                            "      <th class=\"blank level0\" >&nbsp;</th>\n",
                            "      <th id=\"T_a553a_level0_col0\" class=\"col_heading level0 col0\" >smoker</th>\n",
                            "      <th id=\"T_a553a_level0_col1\" class=\"col_heading level0 col1\" >bmi</th>\n",
                            "      <th id=\"T_a553a_level0_col2\" class=\"col_heading level0 col2\" >age</th>\n",
                            "      <th id=\"T_a553a_level0_col3\" class=\"col_heading level0 col3\" >charges</th>\n",
                            "    </tr>\n",
                            "  </thead>\n",
                            "  <tbody>\n",
                            "    <tr>\n",
                            "      <th id=\"T_a553a_level0_row0\" class=\"row_heading level0 row0\" >smoker</th>\n",
                            "      <td id=\"T_a553a_row0_col0\" class=\"data row0 col0\" >1.000</td>\n",
                            "      <td id=\"T_a553a_row0_col1\" class=\"data row0 col1\" >0.035</td>\n",
                            "      <td id=\"T_a553a_row0_col2\" class=\"data row0 col2\" >0.025</td>\n",
                            "      <td id=\"T_a553a_row0_col3\" class=\"data row0 col3\" >0.847</td>\n",
                            "    </tr>\n",
                            "    <tr>\n",
                            "      <th id=\"T_a553a_level0_row1\" class=\"row_heading level0 row1\" >bmi</th>\n",
                            "      <td id=\"T_a553a_row1_col0\" class=\"data row1 col0\" >0.035</td>\n",
                            "      <td id=\"T_a553a_row1_col1\" class=\"data row1 col1\" >1.000</td>\n",
                            "      <td id=\"T_a553a_row1_col2\" class=\"data row1 col2\" >0.115</td>\n",
                            "      <td id=\"T_a553a_row1_col3\" class=\"data row1 col3\" >0.196</td>\n",
                            "    </tr>\n",
                            "    <tr>\n",
                            "      <th id=\"T_a553a_level0_row2\" class=\"row_heading level0 row2\" >age</th>\n",
                            "      <td id=\"T_a553a_row2_col0\" class=\"data row2 col0\" >0.025</td>\n",
                            "      <td id=\"T_a553a_row2_col1\" class=\"data row2 col1\" >0.115</td>\n",
                            "      <td id=\"T_a553a_row2_col2\" class=\"data row2 col2\" >1.000</td>\n",
                            "      <td id=\"T_a553a_row2_col3\" class=\"data row2 col3\" >0.348</td>\n",
                            "    </tr>\n",
                            "    <tr>\n",
                            "      <th id=\"T_a553a_level0_row3\" class=\"row_heading level0 row3\" >charges</th>\n",
                            "      <td id=\"T_a553a_row3_col0\" class=\"data row3 col0\" >0.847</td>\n",
                            "      <td id=\"T_a553a_row3_col1\" class=\"data row3 col1\" >0.196</td>\n",
                            "      <td id=\"T_a553a_row3_col2\" class=\"data row3 col2\" >0.348</td>\n",
                            "      <td id=\"T_a553a_row3_col3\" class=\"data row3 col3\" >1.000</td>\n",
                            "    </tr>\n",
                            "  </tbody>\n",
                            "</table>\n"
                        ],
                        "text/plain": [
                            "<pandas.io.formats.style.Styler at 0x70b606c47940>"
                        ]
                    },
                    "execution_count": 140,
                    "metadata": {},
                    "output_type": "execute_result"
                }
            ],
            "source": [
                "#Since the amount of variables isn't very big, we will remove those that had an importance of less than 1%\n",
                "X_train = X_train[df_imp[df_imp.Importance > 1]['Feature'].values]\n",
                "X_test = X_test[df_imp[df_imp.Importance > 1]['Feature'].values]\n",
                "\n",
                "#Show correlation between variables\n",
                "X_corr = X_train.copy()\n",
                "X_corr['charges'] = y_train\n",
                "corr = X_corr.corr()\n",
                "corr.style.background_gradient(cmap='coolwarm').format(precision=3)"
            ]
        },
        {
            "cell_type": "code",
            "execution_count": 141,
            "metadata": {},
            "outputs": [
                {
                    "data": {
                        "text/html": [
                            "<div>\n",
                            "<style scoped>\n",
                            "    .dataframe tbody tr th:only-of-type {\n",
                            "        vertical-align: middle;\n",
                            "    }\n",
                            "\n",
                            "    .dataframe tbody tr th {\n",
                            "        vertical-align: top;\n",
                            "    }\n",
                            "\n",
                            "    .dataframe thead th {\n",
                            "        text-align: right;\n",
                            "    }\n",
                            "</style>\n",
                            "<table border=\"1\" class=\"dataframe\">\n",
                            "  <thead>\n",
                            "    <tr style=\"text-align: right;\">\n",
                            "      <th></th>\n",
                            "      <th>Feature</th>\n",
                            "      <th>VIF</th>\n",
                            "    </tr>\n",
                            "  </thead>\n",
                            "  <tbody>\n",
                            "    <tr>\n",
                            "      <th>0</th>\n",
                            "      <td>smoker</td>\n",
                            "      <td>1.006825</td>\n",
                            "    </tr>\n",
                            "    <tr>\n",
                            "      <th>1</th>\n",
                            "      <td>bmi</td>\n",
                            "      <td>1.058954</td>\n",
                            "    </tr>\n",
                            "    <tr>\n",
                            "      <th>2</th>\n",
                            "      <td>age</td>\n",
                            "      <td>1.056279</td>\n",
                            "    </tr>\n",
                            "  </tbody>\n",
                            "</table>\n",
                            "</div>"
                        ],
                        "text/plain": [
                            "  Feature       VIF\n",
                            "0  smoker  1.006825\n",
                            "1     bmi  1.058954\n",
                            "2     age  1.056279"
                        ]
                    },
                    "execution_count": 141,
                    "metadata": {},
                    "output_type": "execute_result"
                }
            ],
            "source": [
                "'''After calculating the importance and correlation of the variables, we can see that being a smoker is most likely the biggest factor in \n",
                "rising insurance prices'''\n",
                "\n",
                "#VIF calculation\n",
                "def calculate_vif(X):\n",
                "    vif_data = pd.DataFrame()\n",
                "    vif_data[\"Feature\"] = X.columns\n",
                "    vif_data[\"VIF\"] = [variance_inflation_factor(X.values, i) for i in range(X.shape[1])]\n",
                "    return vif_data\n",
                "\n",
                "calculate_vif(X_train.corr())"
            ]
        },
        {
            "cell_type": "code",
            "execution_count": 142,
            "metadata": {},
            "outputs": [
                {
                    "name": "stdout",
                    "output_type": "stream",
                    "text": [
                        "                            OLS Regression Results                            \n",
                        "==============================================================================\n",
                        "Dep. Variable:                charges   R-squared:                       0.850\n",
                        "Model:                            OLS   Adj. R-squared:                  0.849\n",
                        "Method:                 Least Squares   F-statistic:                     1156.\n",
                        "Date:                Wed, 29 Jan 2025   Prob (F-statistic):               0.00\n",
                        "Time:                        19:10:12   Log-Likelihood:                -12135.\n",
                        "No. Observations:                1236   AIC:                         2.428e+04\n",
                        "Df Residuals:                    1229   BIC:                         2.432e+04\n",
                        "Df Model:                           6                                         \n",
                        "Covariance Type:            nonrobust                                         \n",
                        "==============================================================================\n",
                        "                 coef    std err          t      P>|t|      [0.025      0.975]\n",
                        "------------------------------------------------------------------------------\n",
                        "const      -1.123e+04    813.984    -13.800      0.000   -1.28e+04   -9636.119\n",
                        "age          254.8907      9.134     27.905      0.000     236.971     272.811\n",
                        "sex           22.2040    255.029      0.087      0.931    -478.137     522.544\n",
                        "bmi          252.6115     22.563     11.196      0.000     208.345     296.878\n",
                        "children     520.9497    106.041      4.913      0.000     312.909     728.990\n",
                        "smoker      2.529e+04    332.872     75.976      0.000    2.46e+04    2.59e+04\n",
                        "region       350.1199    117.900      2.970      0.003     118.812     581.427\n",
                        "==============================================================================\n",
                        "Omnibus:                       79.259   Durbin-Watson:                   2.076\n",
                        "Prob(Omnibus):                  0.000   Jarque-Bera (JB):              254.705\n",
                        "Skew:                           0.255   Prob(JB):                     4.92e-56\n",
                        "Kurtosis:                       5.165   Cond. No.                         332.\n",
                        "==============================================================================\n",
                        "\n",
                        "Notes:\n",
                        "[1] Standard Errors assume that the covariance matrix of the errors is correctly specified.\n"
                    ]
                }
            ],
            "source": [
                "#Create the linear regression model\n",
                "X = sm.add_constant(X)\n",
                "model = sm.OLS(y, X)\n",
                "\n",
                "#Adjust our dataset to the model\n",
                "results = model.fit()\n",
                "print(results.summary())"
            ]
        },
        {
            "cell_type": "code",
            "execution_count": 143,
            "metadata": {},
            "outputs": [
                {
                    "data": {
                        "image/png": "[encoded data removed]",
                        "text/plain": [
                            "<Figure size 1200x600 with 2 Axes>"
                        ]
                    },
                    "metadata": {},
                    "output_type": "display_data"
                }
            ],
            "source": [
                "'''We got an R-squared of 0'85, which is rather high. Since we have a prob of 0, we must reject H0, meaning that at least one of our \n",
                "coefficients is statistically different to 0.'''\n",
                "#Plot the residues\n",
                "residues = results.resid\n",
                "\n",
                "plt.figure(figsize=(12, 6))\n",
                "\n",
                "# Histogram\n",
                "plt.subplot(1, 2, 1)\n",
                "plt.hist(residues, bins=50, edgecolor='black')\n",
                "plt.xlabel('Residues')\n",
                "plt.ylabel('Frequency')\n",
                "plt.title('Histogram of Residues')\n",
                "\n",
                "# Boxplot\n",
                "plt.subplot(1, 2, 2) \n",
                "plt.boxplot(residues, vert=False)\n",
                "plt.xlabel('Residues')\n",
                "plt.title('Boxplot of Residues')\n",
                "\n",
                "plt.tight_layout()\n",
                "plt.show()"
            ]
        },
        {
            "cell_type": "code",
            "execution_count": 144,
            "metadata": {},
            "outputs": [
                {
                    "data": {
                        "text/plain": [
                            "np.float64(-7.005169547636146e-13)"
                        ]
                    },
                    "execution_count": 144,
                    "metadata": {},
                    "output_type": "execute_result"
                }
            ],
            "source": [
                "#Check the mean of our residues to see if we have a high variance (meaning that a lot of our errors were rather high)\n",
                "np.mean(residues)\n",
                "\n",
                "#A mean so close to 0 means that our errors were close to the accurate mark"
            ]
        },
        {
            "cell_type": "code",
            "execution_count": 145,
            "metadata": {},
            "outputs": [
                {
                    "data": {
                        "text/plain": [
                            "ShapiroResult(statistic=np.float64(0.9039001112165169), pvalue=np.float64(3.544788490644864e-27))"
                        ]
                    },
                    "execution_count": 145,
                    "metadata": {},
                    "output_type": "execute_result"
                }
            ],
            "source": [
                "#Check the normality of our errors\n",
                "stats.shapiro(residues)\n",
                "\n",
                "'''With a Shapiro so close to 0, we can assume normality in our errors. This is important, as a skewed distribution could mean that our\n",
                "datamodel is biased'''"
            ]
        }
    ],
    "metadata": {
        "kernelspec": {
            "display_name": "Python 3",
            "language": "python",
            "name": "python3"
        },
        "language_info": {
            "codemirror_mode": {
                "name": "ipython",
                "version": 3
            },
            "file_extension": ".py",
            "mimetype": "text/x-python",
            "name": "python",
            "nbconvert_exporter": "python",
            "pygments_lexer": "ipython3",
            "version": "3.10.12"
        },
        "orig_nbformat": 4
    },
    "nbformat": 4,
    "nbformat_minor": 2
}
